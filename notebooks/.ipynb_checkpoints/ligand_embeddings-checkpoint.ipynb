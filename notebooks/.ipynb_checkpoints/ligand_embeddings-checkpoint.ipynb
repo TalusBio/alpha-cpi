{
 "cells": [
  {
   "cell_type": "code",
   "execution_count": 9,
   "id": "77a523bb",
   "metadata": {},
   "outputs": [
    {
     "name": "stdout",
     "output_type": "stream",
     "text": [
      "Collecting package metadata (current_repodata.json): done\n",
      "Solving environment: done\n",
      "\n",
      "# All requested packages already installed.\n",
      "\n"
     ]
    }
   ],
   "source": [
    "!conda install -y pytorch -c pytorch -c nvidia"
   ]
  },
  {
   "cell_type": "code",
   "execution_count": 11,
   "id": "c528b408",
   "metadata": {},
   "outputs": [
    {
     "name": "stdout",
     "output_type": "stream",
     "text": [
      "Collecting package metadata (current_repodata.json): done\n",
      "Solving environment: failed with initial frozen solve. Retrying with flexible solve.\n",
      "Solving environment: failed with repodata from current_repodata.json, will retry with next repodata source.\n",
      "Collecting package metadata (repodata.json): done\n",
      "Solving environment: done\n",
      "\n",
      "## Package Plan ##\n",
      "\n",
      "  environment location: /opt/conda\n",
      "\n",
      "  added / updated specs:\n",
      "    - fastai\n",
      "\n",
      "\n",
      "The following packages will be downloaded:\n",
      "\n",
      "    package                    |            build\n",
      "    ---------------------------|-----------------\n",
      "    aiohttp-3.7.4.post0        |   py38h497a2fe_0         641 KB  fastchan\n",
      "    async-timeout-3.0.1        |   py38h06a4308_0          13 KB\n",
      "    boto-2.49.0                |           py38_0         1.2 MB\n",
      "    boto3-1.17.7               |     pyhd3eb1b0_0          71 KB\n",
      "    botocore-1.20.7            |     pyhd8ed1ab_0         4.5 MB  fastchan\n",
      "    c-ares-1.17.1              |       h27cfd23_0         108 KB\n",
      "    cachetools-4.2.2           |     pyhd3eb1b0_0          13 KB\n",
      "    catalogue-2.0.4            |   py38h578d9bd_0          30 KB  fastchan\n",
      "    click-8.0.1                |     pyhd3eb1b0_0          79 KB\n",
      "    colorama-0.4.4             |     pyhd3eb1b0_0          21 KB\n",
      "    coverage-5.5               |   py38h27cfd23_2         259 KB\n",
      "    cycler-0.10.0              |           py38_0          14 KB\n",
      "    cymem-2.0.5                |   py38h2531618_0          40 KB\n",
      "    cython-0.29.24             |   py38h295c915_0         2.0 MB\n",
      "    cython-blis-0.7.4          |   py38h27cfd23_1         2.0 MB\n",
      "    dataclasses-0.8            |     pyh6d0b6a4_7           8 KB\n",
      "    fastai-2.4.1               |             py_0         144 KB  fastchan\n",
      "    fastcore-1.3.20            |             py_0          46 KB  fastchan\n",
      "    fastprogress-1.0.0         |     pyh39e3cac_0          17 KB  fastchan\n",
      "    google-api-core-1.25.1     |     pyhd3eb1b0_0          64 KB\n",
      "    google-auth-1.33.0         |     pyhd3eb1b0_0          80 KB\n",
      "    google-cloud-core-1.7.1    |     pyhd3eb1b0_0          25 KB\n",
      "    google-cloud-storage-1.41.0|     pyhd3eb1b0_0          72 KB\n",
      "    google-crc32c-1.1.2        |   py38h27cfd23_0          23 KB\n",
      "    google-resumable-media-1.3.1|     pyhd3eb1b0_1          41 KB\n",
      "    googleapis-common-protos-1.53.0|   py38h06a4308_0         135 KB\n",
      "    grpcio-1.36.1              |   py38h2157cd5_1         1.9 MB\n",
      "    jbig-2.1                   |       hdba287a_0          40 KB\n",
      "    jmespath-0.10.0            |             py_0          23 KB\n",
      "    joblib-1.0.1               |     pyhd3eb1b0_0         208 KB\n",
      "    kiwisolver-1.3.1           |   py38h2531618_0          80 KB\n",
      "    lcms2-2.12                 |       h3be6417_0         312 KB\n",
      "    lerc-2.2.1                 |       h2531618_0         185 KB\n",
      "    libblas-3.9.0              |1_h86c2bf4_netlib         199 KB  fastchan\n",
      "    libcblas-3.9.0             |5_h92ddd45_netlib          54 KB  fastchan\n",
      "    libcrc32c-1.1.1            |       he6710b0_2          20 KB\n",
      "    libdeflate-1.7             |       h27cfd23_5          55 KB\n",
      "    liblapack-3.9.0            |5_h92ddd45_netlib         3.0 MB  fastchan\n",
      "    libprotobuf-3.16.0         |       h780b84a_0         2.5 MB  fastchan\n",
      "    libtiff-4.3.0              |       hf544144_1         668 KB  fastchan\n",
      "    libwebp-base-1.2.0         |       h27cfd23_0         437 KB\n",
      "    matplotlib-3.3.2           |   py38h578d9bd_1           6 KB  fastchan\n",
      "    matplotlib-base-3.3.2      |   py38h817c723_0         5.1 MB\n",
      "    multidict-5.1.0            |   py38h27cfd23_2          68 KB\n",
      "    murmurhash-1.0.5           |   py38h2531618_0          24 KB\n",
      "    olefile-0.46               |             py_0          33 KB\n",
      "    openjpeg-2.3.0             |       h05c96fa_1         301 KB\n",
      "    pandas-1.2.4               |   py38h2531618_0         8.9 MB\n",
      "    pathy-0.4.0                |     pyhd8ed1ab_0          33 KB  fastchan\n",
      "    pillow-8.3.1               |   py38h2c7a002_0         638 KB\n",
      "    preshed-3.0.5              |   py38h2531618_4         117 KB\n",
      "    protobuf-3.16.0            |   py38h709712a_0         344 KB  fastchan\n",
      "    pyasn1-0.4.8               |             py_0          57 KB\n",
      "    pyasn1-modules-0.2.8       |             py_0          72 KB\n",
      "    pydantic-1.7.3             |   py38h27cfd23_0         1.6 MB\n",
      "    pytz-2021.1                |     pyhd3eb1b0_0         181 KB\n",
      "    pyyaml-5.4.1               |   py38h27cfd23_1         174 KB\n",
      "    rsa-4.7.2                  |     pyhd3eb1b0_1          28 KB\n",
      "    s3transfer-0.3.6           |     pyhd3eb1b0_0          53 KB\n",
      "    scikit-learn-0.24.2        |   py38ha9443f7_0         5.4 MB\n",
      "    scipy-1.5.3                |   py38hb2138dd_0        19.2 MB  fastchan\n",
      "    shellingham-1.3.1          |             py_0          12 KB\n",
      "    smart_open-2.2.1           |             py_0          76 KB\n",
      "    spacy-3.0.3                |   py38hc10631b_0        10.4 MB  fastchan\n",
      "    spacy-legacy-3.0.8         |     pyhd8ed1ab_0          15 KB  fastchan\n",
      "    srsly-2.4.0                |   py38h709712a_1         528 KB  fastchan\n",
      "    thinc-8.0.3                |   py38hfc89cab_1         1.0 MB  fastchan\n",
      "    threadpoolctl-2.2.0        |     pyhb85f177_0          16 KB\n",
      "    torchvision-0.8.2          |py38h89b28b9_1_cpu         6.5 MB  fastchan\n",
      "    typer-0.3.1                |             py_0          22 KB  fastchan\n",
      "    wasabi-0.8.2               |     pyhd3eb1b0_0          23 KB\n",
      "    yarl-1.5.1                 |   py38h7b6447c_0         139 KB\n",
      "    ------------------------------------------------------------\n",
      "                                           Total:        82.2 MB\n",
      "\n",
      "The following NEW packages will be INSTALLED:\n",
      "\n",
      "  aiohttp            fastchan/linux-64::aiohttp-3.7.4.post0-py38h497a2fe_0\n",
      "  async-timeout      pkgs/main/linux-64::async-timeout-3.0.1-py38h06a4308_0\n",
      "  boto               pkgs/main/linux-64::boto-2.49.0-py38_0\n",
      "  boto3              pkgs/main/noarch::boto3-1.17.7-pyhd3eb1b0_0\n",
      "  botocore           fastchan/noarch::botocore-1.20.7-pyhd8ed1ab_0\n",
      "  c-ares             pkgs/main/linux-64::c-ares-1.17.1-h27cfd23_0\n",
      "  cachetools         pkgs/main/noarch::cachetools-4.2.2-pyhd3eb1b0_0\n",
      "  catalogue          fastchan/linux-64::catalogue-2.0.4-py38h578d9bd_0\n",
      "  click              pkgs/main/noarch::click-8.0.1-pyhd3eb1b0_0\n",
      "  colorama           pkgs/main/noarch::colorama-0.4.4-pyhd3eb1b0_0\n",
      "  coverage           pkgs/main/linux-64::coverage-5.5-py38h27cfd23_2\n",
      "  cycler             pkgs/main/linux-64::cycler-0.10.0-py38_0\n",
      "  cymem              pkgs/main/linux-64::cymem-2.0.5-py38h2531618_0\n",
      "  cython             pkgs/main/linux-64::cython-0.29.24-py38h295c915_0\n",
      "  cython-blis        pkgs/main/linux-64::cython-blis-0.7.4-py38h27cfd23_1\n",
      "  dataclasses        pkgs/main/noarch::dataclasses-0.8-pyh6d0b6a4_7\n",
      "  fastai             fastchan/noarch::fastai-2.4.1-py_0\n",
      "  fastcore           fastchan/noarch::fastcore-1.3.20-py_0\n",
      "  fastprogress       fastchan/noarch::fastprogress-1.0.0-pyh39e3cac_0\n",
      "  google-api-core    pkgs/main/noarch::google-api-core-1.25.1-pyhd3eb1b0_0\n",
      "  google-auth        pkgs/main/noarch::google-auth-1.33.0-pyhd3eb1b0_0\n",
      "  google-cloud-core  pkgs/main/noarch::google-cloud-core-1.7.1-pyhd3eb1b0_0\n",
      "  google-cloud-stor~ pkgs/main/noarch::google-cloud-storage-1.41.0-pyhd3eb1b0_0\n",
      "  google-crc32c      pkgs/main/linux-64::google-crc32c-1.1.2-py38h27cfd23_0\n",
      "  google-resumable-~ pkgs/main/noarch::google-resumable-media-1.3.1-pyhd3eb1b0_1\n",
      "  googleapis-common~ pkgs/main/linux-64::googleapis-common-protos-1.53.0-py38h06a4308_0\n",
      "  grpcio             pkgs/main/linux-64::grpcio-1.36.1-py38h2157cd5_1\n",
      "  jbig               pkgs/main/linux-64::jbig-2.1-hdba287a_0\n",
      "  jmespath           pkgs/main/noarch::jmespath-0.10.0-py_0\n",
      "  joblib             pkgs/main/noarch::joblib-1.0.1-pyhd3eb1b0_0\n",
      "  kiwisolver         pkgs/main/linux-64::kiwisolver-1.3.1-py38h2531618_0\n",
      "  lcms2              pkgs/main/linux-64::lcms2-2.12-h3be6417_0\n",
      "  lerc               pkgs/main/linux-64::lerc-2.2.1-h2531618_0\n",
      "  libblas            fastchan/linux-64::libblas-3.9.0-1_h86c2bf4_netlib\n",
      "  libcblas           fastchan/linux-64::libcblas-3.9.0-5_h92ddd45_netlib\n",
      "  libcrc32c          pkgs/main/linux-64::libcrc32c-1.1.1-he6710b0_2\n",
      "  libdeflate         pkgs/main/linux-64::libdeflate-1.7-h27cfd23_5\n",
      "  liblapack          fastchan/linux-64::liblapack-3.9.0-5_h92ddd45_netlib\n",
      "  libprotobuf        fastchan/linux-64::libprotobuf-3.16.0-h780b84a_0\n",
      "  libtiff            fastchan/linux-64::libtiff-4.3.0-hf544144_1\n",
      "  libwebp-base       pkgs/main/linux-64::libwebp-base-1.2.0-h27cfd23_0\n",
      "  matplotlib         fastchan/linux-64::matplotlib-3.3.2-py38h578d9bd_1\n",
      "  matplotlib-base    pkgs/main/linux-64::matplotlib-base-3.3.2-py38h817c723_0\n",
      "  multidict          pkgs/main/linux-64::multidict-5.1.0-py38h27cfd23_2\n",
      "  murmurhash         pkgs/main/linux-64::murmurhash-1.0.5-py38h2531618_0\n",
      "  olefile            pkgs/main/noarch::olefile-0.46-py_0\n",
      "  openjpeg           pkgs/main/linux-64::openjpeg-2.3.0-h05c96fa_1\n",
      "  pandas             pkgs/main/linux-64::pandas-1.2.4-py38h2531618_0\n",
      "  pathy              fastchan/noarch::pathy-0.4.0-pyhd8ed1ab_0\n",
      "  pillow             pkgs/main/linux-64::pillow-8.3.1-py38h2c7a002_0\n",
      "  preshed            pkgs/main/linux-64::preshed-3.0.5-py38h2531618_4\n",
      "  protobuf           fastchan/linux-64::protobuf-3.16.0-py38h709712a_0\n",
      "  pyasn1             pkgs/main/noarch::pyasn1-0.4.8-py_0\n",
      "  pyasn1-modules     pkgs/main/noarch::pyasn1-modules-0.2.8-py_0\n",
      "  pydantic           pkgs/main/linux-64::pydantic-1.7.3-py38h27cfd23_0\n",
      "  pytz               pkgs/main/noarch::pytz-2021.1-pyhd3eb1b0_0\n",
      "  pyyaml             pkgs/main/linux-64::pyyaml-5.4.1-py38h27cfd23_1\n",
      "  rsa                pkgs/main/noarch::rsa-4.7.2-pyhd3eb1b0_1\n",
      "  s3transfer         pkgs/main/noarch::s3transfer-0.3.6-pyhd3eb1b0_0\n",
      "  scikit-learn       pkgs/main/linux-64::scikit-learn-0.24.2-py38ha9443f7_0\n",
      "  scipy              fastchan/linux-64::scipy-1.5.3-py38hb2138dd_0\n",
      "  shellingham        pkgs/main/noarch::shellingham-1.3.1-py_0\n",
      "  smart_open         pkgs/main/noarch::smart_open-2.2.1-py_0\n",
      "  spacy              fastchan/linux-64::spacy-3.0.3-py38hc10631b_0\n",
      "  spacy-legacy       fastchan/noarch::spacy-legacy-3.0.8-pyhd8ed1ab_0\n",
      "  srsly              fastchan/linux-64::srsly-2.4.0-py38h709712a_1\n",
      "  thinc              fastchan/linux-64::thinc-8.0.3-py38hfc89cab_1\n",
      "  threadpoolctl      pkgs/main/noarch::threadpoolctl-2.2.0-pyhb85f177_0\n",
      "  torchvision        fastchan/linux-64::torchvision-0.8.2-py38h89b28b9_1_cpu\n",
      "  typer              fastchan/noarch::typer-0.3.1-py_0\n",
      "  wasabi             pkgs/main/noarch::wasabi-0.8.2-pyhd3eb1b0_0\n",
      "  yarl               pkgs/main/linux-64::yarl-1.5.1-py38h7b6447c_0\n",
      "\n",
      "\n",
      "\n",
      "Downloading and Extracting Packages\n"
     ]
    },
    {
     "name": "stdout",
     "output_type": "stream",
     "text": [
      "pytz-2021.1          | 181 KB    | ##################################### | 100% \n",
      "threadpoolctl-2.2.0  | 16 KB     | ##################################### | 100% \n",
      "typer-0.3.1          | 22 KB     | ##################################### | 100% \n",
      "boto3-1.17.7         | 71 KB     | ##################################### | 100% \n",
      "torchvision-0.8.2    | 6.5 MB    | ##################################### | 100% \n",
      "scikit-learn-0.24.2  | 5.4 MB    | ##################################### | 100% \n",
      "s3transfer-0.3.6     | 53 KB     | ##################################### | 100% \n",
      "fastai-2.4.1         | 144 KB    | ##################################### | 100% \n",
      "cython-blis-0.7.4    | 2.0 MB    | ##################################### | 100% \n",
      "jmespath-0.10.0      | 23 KB     | ##################################### | 100% \n",
      "lerc-2.2.1           | 185 KB    | ##################################### | 100% \n",
      "botocore-1.20.7      | 4.5 MB    | ##################################### | 100% \n",
      "multidict-5.1.0      | 68 KB     | ##################################### | 100% \n",
      "google-api-core-1.25 | 64 KB     | ##################################### | 100% \n",
      "cycler-0.10.0        | 14 KB     | ##################################### | 100% \n",
      "pydantic-1.7.3       | 1.6 MB    | ##################################### | 100% \n",
      "catalogue-2.0.4      | 30 KB     | ##################################### | 100% \n",
      "libwebp-base-1.2.0   | 437 KB    | ##################################### | 100% \n",
      "libcrc32c-1.1.1      | 20 KB     | ##################################### | 100% \n",
      "cython-0.29.24       | 2.0 MB    | ##################################### | 100% \n",
      "pillow-8.3.1         | 638 KB    | ##################################### | 100% \n",
      "fastcore-1.3.20      | 46 KB     | ##################################### | 100% \n",
      "pyasn1-modules-0.2.8 | 72 KB     | ##################################### | 100% \n",
      "boto-2.49.0          | 1.2 MB    | ##################################### | 100% \n",
      "rsa-4.7.2            | 28 KB     | ##################################### | 100% \n",
      "scipy-1.5.3          | 19.2 MB   | ##################################### | 100% \n",
      "libtiff-4.3.0        | 668 KB    | ##################################### | 100% \n",
      "joblib-1.0.1         | 208 KB    | ##################################### | 100% \n",
      "preshed-3.0.5        | 117 KB    | ##################################### | 100% \n",
      "olefile-0.46         | 33 KB     | ##################################### | 100% \n",
      "wasabi-0.8.2         | 23 KB     | ##################################### | 100% \n",
      "srsly-2.4.0          | 528 KB    | ##################################### | 100% \n",
      "cymem-2.0.5          | 40 KB     | ##################################### | 100% \n",
      "grpcio-1.36.1        | 1.9 MB    | ##################################### | 100% \n",
      "coverage-5.5         | 259 KB    | ##################################### | 100% \n",
      "cachetools-4.2.2     | 13 KB     | ##################################### | 100% \n",
      "murmurhash-1.0.5     | 24 KB     | ##################################### | 100% \n",
      "spacy-legacy-3.0.8   | 15 KB     | ##################################### | 100% \n",
      "pyyaml-5.4.1         | 174 KB    | ##################################### | 100% \n",
      "shellingham-1.3.1    | 12 KB     | ##################################### | 100% \n",
      "matplotlib-3.3.2     | 6 KB      | ##################################### | 100% \n",
      "thinc-8.0.3          | 1.0 MB    | ##################################### | 100% \n",
      "aiohttp-3.7.4.post0  | 641 KB    | ##################################### | 100% \n",
      "protobuf-3.16.0      | 344 KB    | ##################################### | 100% \n",
      "google-cloud-core-1. | 25 KB     | ##################################### | 100% \n",
      "libdeflate-1.7       | 55 KB     | ##################################### | 100% \n",
      "googleapis-common-pr | 135 KB    | ##################################### | 100% \n",
      "jbig-2.1             | 40 KB     | ##################################### | 100% \n",
      "pyasn1-0.4.8         | 57 KB     | ##################################### | 100% \n",
      "fastprogress-1.0.0   | 17 KB     | ##################################### | 100% \n",
      "click-8.0.1          | 79 KB     | ##################################### | 100% \n",
      "google-crc32c-1.1.2  | 23 KB     | ##################################### | 100% \n",
      "pandas-1.2.4         | 8.9 MB    | ##################################### | 100% \n",
      "pathy-0.4.0          | 33 KB     | ##################################### | 100% \n",
      "colorama-0.4.4       | 21 KB     | ##################################### | 100% \n",
      "async-timeout-3.0.1  | 13 KB     | ##################################### | 100% \n",
      "c-ares-1.17.1        | 108 KB    | ##################################### | 100% \n",
      "liblapack-3.9.0      | 3.0 MB    | ##################################### | 100% \n",
      "kiwisolver-1.3.1     | 80 KB     | ##################################### | 100% \n",
      "yarl-1.5.1           | 139 KB    | ##################################### | 100% \n",
      "google-resumable-med | 41 KB     | ##################################### | 100% \n",
      "google-auth-1.33.0   | 80 KB     | ##################################### | 100% \n",
      "dataclasses-0.8      | 8 KB      | ##################################### | 100% \n",
      "lcms2-2.12           | 312 KB    | ##################################### | 100% \n",
      "spacy-3.0.3          | 10.4 MB   | ##################################### | 100% \n",
      "google-cloud-storage | 72 KB     | ##################################### | 100% \n",
      "smart_open-2.2.1     | 76 KB     | ##################################### | 100% \n",
      "matplotlib-base-3.3. | 5.1 MB    | ##################################### | 100% \n",
      "libblas-3.9.0        | 199 KB    | ##################################### | 100% \n",
      "libcblas-3.9.0       | 54 KB     | ##################################### | 100% \n",
      "openjpeg-2.3.0       | 301 KB    | ##################################### | 100% \n",
      "libprotobuf-3.16.0   | 2.5 MB    | ##################################### | 100% \n",
      "Preparing transaction: done\n",
      "Verifying transaction: done\n",
      "Executing transaction: \\ \n",
      "\n",
      "    Installed package of scikit-learn can be accelerated using scikit-learn-intelex.\n",
      "    More details are available here: https://intel.github.io/scikit-learn-intelex\n",
      "\n",
      "    For example:\n",
      "\n",
      "        $ conda install scikit-learn-intelex\n",
      "        $ python -m sklearnex my_application.py\n",
      "\n",
      "    \n",
      "\n",
      "done\n"
     ]
    }
   ],
   "source": [
    "!conda install -y -c fastchan fastai"
   ]
  },
  {
   "cell_type": "code",
   "execution_count": 17,
   "id": "c0336467",
   "metadata": {},
   "outputs": [
    {
     "name": "stdout",
     "output_type": "stream",
     "text": [
      "Collecting package metadata (current_repodata.json): done\n",
      "Solving environment: done\n",
      "\n",
      "## Package Plan ##\n",
      "\n",
      "  environment location: /opt/conda\n",
      "\n",
      "  added / updated specs:\n",
      "    - rdkit\n",
      "\n",
      "\n",
      "The following packages will be downloaded:\n",
      "\n",
      "    package                    |            build\n",
      "    ---------------------------|-----------------\n",
      "    boost-1.74.0               |   py38hc10631b_3         368 KB  conda-forge\n",
      "    boost-cpp-1.74.0           |       h312852a_4        16.3 MB  conda-forge\n",
      "    bzip2-1.0.8                |       h7f98852_4         484 KB  conda-forge\n",
      "    cairo-1.16.0               |    h6cf1ce9_1008         1.5 MB  conda-forge\n",
      "    greenlet-1.1.0             |   py38h709712a_0          84 KB  conda-forge\n",
      "    pixman-0.40.0              |       h36c2ea0_0         627 KB  conda-forge\n",
      "    pycairo-1.20.1             |   py38hf61ee4a_0          77 KB  conda-forge\n",
      "    rdkit-2021.03.4            |   py38hf8acc3d_0        38.6 MB  conda-forge\n",
      "    reportlab-3.5.68           |   py38hadf75a6_0         2.4 MB  conda-forge\n",
      "    sqlalchemy-1.4.22          |   py38h497a2fe_0         2.3 MB  conda-forge\n",
      "    xorg-kbproto-1.0.7         |    h7f98852_1002          27 KB  conda-forge\n",
      "    xorg-libice-1.0.10         |       h7f98852_0          58 KB  conda-forge\n",
      "    xorg-libsm-1.2.3           |    hd9c2040_1000          26 KB  conda-forge\n",
      "    xorg-libx11-1.7.2          |       h7f98852_0         941 KB  conda-forge\n",
      "    xorg-libxext-1.3.4         |       h7f98852_1          54 KB  conda-forge\n",
      "    xorg-libxrender-0.9.10     |    h7f98852_1003          32 KB  conda-forge\n",
      "    xorg-renderproto-0.11.1    |    h7f98852_1002           9 KB  conda-forge\n",
      "    xorg-xextproto-7.3.0       |    h7f98852_1002          28 KB  conda-forge\n",
      "    xorg-xproto-7.0.31         |    h7f98852_1007          73 KB  conda-forge\n",
      "    ------------------------------------------------------------\n",
      "                                           Total:        63.9 MB\n",
      "\n",
      "The following NEW packages will be INSTALLED:\n",
      "\n",
      "  boost              conda-forge/linux-64::boost-1.74.0-py38hc10631b_3\n",
      "  boost-cpp          conda-forge/linux-64::boost-cpp-1.74.0-h312852a_4\n",
      "  bzip2              conda-forge/linux-64::bzip2-1.0.8-h7f98852_4\n",
      "  cairo              conda-forge/linux-64::cairo-1.16.0-h6cf1ce9_1008\n",
      "  greenlet           conda-forge/linux-64::greenlet-1.1.0-py38h709712a_0\n",
      "  pixman             conda-forge/linux-64::pixman-0.40.0-h36c2ea0_0\n",
      "  pycairo            conda-forge/linux-64::pycairo-1.20.1-py38hf61ee4a_0\n",
      "  rdkit              conda-forge/linux-64::rdkit-2021.03.4-py38hf8acc3d_0\n",
      "  reportlab          conda-forge/linux-64::reportlab-3.5.68-py38hadf75a6_0\n",
      "  sqlalchemy         conda-forge/linux-64::sqlalchemy-1.4.22-py38h497a2fe_0\n",
      "  xorg-kbproto       conda-forge/linux-64::xorg-kbproto-1.0.7-h7f98852_1002\n",
      "  xorg-libice        conda-forge/linux-64::xorg-libice-1.0.10-h7f98852_0\n",
      "  xorg-libsm         conda-forge/linux-64::xorg-libsm-1.2.3-hd9c2040_1000\n",
      "  xorg-libx11        conda-forge/linux-64::xorg-libx11-1.7.2-h7f98852_0\n",
      "  xorg-libxext       conda-forge/linux-64::xorg-libxext-1.3.4-h7f98852_1\n",
      "  xorg-libxrender    conda-forge/linux-64::xorg-libxrender-0.9.10-h7f98852_1003\n",
      "  xorg-renderproto   conda-forge/linux-64::xorg-renderproto-0.11.1-h7f98852_1002\n",
      "  xorg-xextproto     conda-forge/linux-64::xorg-xextproto-7.3.0-h7f98852_1002\n",
      "  xorg-xproto        conda-forge/linux-64::xorg-xproto-7.0.31-h7f98852_1007\n",
      "\n",
      "The following packages will be SUPERSEDED by a higher-priority channel:\n",
      "\n",
      "  ca-certificates    pkgs/main::ca-certificates-2021.7.5-h~ --> conda-forge::ca-certificates-2021.5.30-ha878542_0\n",
      "  certifi            pkgs/main::certifi-2021.5.30-py38h06a~ --> conda-forge::certifi-2021.5.30-py38h578d9bd_0\n",
      "  conda              pkgs/main::conda-4.10.3-py38h06a4308_0 --> conda-forge::conda-4.10.3-py38h578d9bd_0\n",
      "  openssl              pkgs/main::openssl-1.1.1k-h27cfd23_0 --> conda-forge::openssl-1.1.1k-h7f98852_0\n",
      "\n",
      "\n",
      "\n",
      "Downloading and Extracting Packages\n",
      "xorg-libice-1.0.10   | 58 KB     | ##################################### | 100% \n",
      "bzip2-1.0.8          | 484 KB    | ##################################### | 100% \n",
      "pixman-0.40.0        | 627 KB    | ##################################### | 100% \n",
      "xorg-libx11-1.7.2    | 941 KB    | ##################################### | 100% \n",
      "rdkit-2021.03.4      | 38.6 MB   | ##################################### | 100% \n",
      "xorg-libxrender-0.9. | 32 KB     | ##################################### | 100% \n",
      "xorg-libsm-1.2.3     | 26 KB     | ##################################### | 100% \n",
      "pycairo-1.20.1       | 77 KB     | ##################################### | 100% \n",
      "boost-cpp-1.74.0     | 16.3 MB   | ##################################### | 100% \n",
      "xorg-xextproto-7.3.0 | 28 KB     | ##################################### | 100% \n",
      "xorg-xproto-7.0.31   | 73 KB     | ##################################### | 100% \n",
      "xorg-renderproto-0.1 | 9 KB      | ##################################### | 100% \n",
      "boost-1.74.0         | 368 KB    | ##################################### | 100% \n",
      "reportlab-3.5.68     | 2.4 MB    | ##################################### | 100% \n",
      "cairo-1.16.0         | 1.5 MB    | ##################################### | 100% \n",
      "xorg-libxext-1.3.4   | 54 KB     | ##################################### | 100% \n",
      "greenlet-1.1.0       | 84 KB     | ##################################### | 100% \n",
      "sqlalchemy-1.4.22    | 2.3 MB    | ##################################### | 100% \n",
      "xorg-kbproto-1.0.7   | 27 KB     | ##################################### | 100% \n",
      "Preparing transaction: done\n",
      "Verifying transaction: done\n",
      "Executing transaction: done\n"
     ]
    }
   ],
   "source": [
    "!conda install -y -c conda-forge rdkit"
   ]
  },
  {
   "cell_type": "code",
   "execution_count": 1,
   "id": "9dcd0db1",
   "metadata": {},
   "outputs": [],
   "source": [
    "%load_ext autoreload\n",
    "%autoreload 2"
   ]
  },
  {
   "cell_type": "code",
   "execution_count": 2,
   "id": "b09918a7",
   "metadata": {},
   "outputs": [],
   "source": [
    "import sys\n",
    "sys.path.append('..')"
   ]
  },
  {
   "cell_type": "code",
   "execution_count": 566,
   "id": "fdae11df",
   "metadata": {},
   "outputs": [],
   "source": [
    "import glob\n",
    "import os\n",
    "\n",
    "from pathlib import Path\n",
    "\n",
    "import numpy as np\n",
    "import torch\n",
    "import torch.nn as nn\n",
    "\n",
    "from fastai.callback.schedule import LRFinder\n",
    "from fastai.data.transforms import get_files\n",
    "from fastai.data.core import DataLoaders\n",
    "from fastai.learner import Learner\n",
    "from fastai.metrics import BalancedAccuracy\n",
    "from fastai.torch_core import Module\n",
    "from fastcore.basics import fastuple\n",
    "from fastcore.foundation import L\n",
    "from fastcore.transform import Transform\n",
    "from fastcore.basics import Self\n",
    "from rdkit import Chem\n",
    "from rdkit.Chem import AllChem\n",
    "from rdkit.Chem.rdmolfiles import SmilesMolSupplier\n",
    "from rdkit.Chem import rdMolDescriptors\n",
    "from rdkit.DataStructs import ExplicitBitVect"
   ]
  },
  {
   "cell_type": "code",
   "execution_count": 44,
   "id": "b0fb1c2b",
   "metadata": {},
   "outputs": [],
   "source": [
    "output_dir = \"../data/fingerprints\"\n",
    "os.makedirs(output_dir, exist_ok=True)"
   ]
  },
  {
   "cell_type": "code",
   "execution_count": 56,
   "id": "54fd34ba",
   "metadata": {},
   "outputs": [],
   "source": [
    "embedding_output_dir = \"../data/model_embeddings\""
   ]
  },
  {
   "cell_type": "code",
   "execution_count": 214,
   "id": "d96c58fb",
   "metadata": {},
   "outputs": [],
   "source": [
    "train_smi_files = L(glob.glob(\"../data/AVE_unbiased/**/*_T.smi\", recursive=True)).map(Path)\n",
    "val_smi_files = L(glob.glob(\"../data/AVE_unbiased/**/*_V.smi\", recursive=True)).map(Path)"
   ]
  },
  {
   "cell_type": "code",
   "execution_count": 278,
   "id": "5030335d",
   "metadata": {},
   "outputs": [
    {
     "name": "stdout",
     "output_type": "stream",
     "text": [
      "ADRB2.npy  ESR1.npy  GLCM.npy  KAT2A.npy  MK01.npy  P53.npy    VDR.npy\r\n",
      "AL1A1.npy  FEN1.npy  IDHC.npy  KPYM.npy   OPRK.npy  PPARG.npy\r\n"
     ]
    }
   ],
   "source": [
    "ls \"../data/model_embeddings\""
   ]
  },
  {
   "cell_type": "code",
   "execution_count": 281,
   "id": "f06c39a8",
   "metadata": {},
   "outputs": [
    {
     "name": "stdout",
     "output_type": "stream",
     "text": [
      "\u001b[0m\u001b[01;34mADRB2\u001b[0m/  \u001b[01;34mESR1_ago\u001b[0m/  \u001b[01;34mFEN1\u001b[0m/  \u001b[01;34mIDH1\u001b[0m/   \u001b[01;34mMAPK1\u001b[0m/   \u001b[01;34mOPRK1\u001b[0m/  \u001b[01;34mPPARG\u001b[0m/  \u001b[01;34mVDR\u001b[0m/\r\n",
      "\u001b[01;34mALDH1\u001b[0m/  \u001b[01;34mESR1_ant\u001b[0m/  \u001b[01;34mGBA\u001b[0m/   \u001b[01;34mKAT2A\u001b[0m/  \u001b[01;34mMTORC1\u001b[0m/  \u001b[01;34mPKM2\u001b[0m/   \u001b[01;34mTP53\u001b[0m/\r\n"
     ]
    }
   ],
   "source": [
    "ls \"../data/AVE_unbiased/\""
   ]
  },
  {
   "cell_type": "code",
   "execution_count": 282,
   "id": "39bc26d7",
   "metadata": {},
   "outputs": [],
   "source": [
    "mapping = {\n",
    "    \"ADRB2\": \"ADRB2\",\n",
    "    \"AL1A1\": \"ALDH1\",\n",
    "    \"ESR1\": [\"ESR1_ago\", \"ESR1_ant\"],\n",
    "    \"FEN1\": \"FEN1\",\n",
    "    \"GLCM\": \"GBA\",\n",
    "    \"IDHC\": \"IDH1\",\n",
    "    \"KAT2A\": \"KAT2A\",\n",
    "    \"KPYM\": \"PKM2\",\n",
    "    \"MK01\": \"MAPK1\",\n",
    "    \"OPRK\": \"OPRK1\",\n",
    "    \"P53\": \"TP53\",\n",
    "    \"PPARG\": \"PPARG\",\n",
    "    \"VDR\": \"VDR\"\n",
    "}\n",
    "list_transform = lambda x: [x] if not isinstance(x, list) else x\n",
    "reverse_mapping = {vv: k for k, v in mapping.items() for vv in list_transform(v)}"
   ]
  },
  {
   "cell_type": "code",
   "execution_count": 285,
   "id": "ac5aa075",
   "metadata": {},
   "outputs": [],
   "source": [
    "def get_compound_smiles_dataset(smi_files: list, mapping: dict):\n",
    "    smiles_dict = {}\n",
    "    for file in smi_files:\n",
    "        protein_name = mapping.get(file.parent.stem)\n",
    "        if not protein_name:\n",
    "            print(file)\n",
    "            continue\n",
    "        is_active = int(file.stem.split(\"_\")[1] == \"active\")\n",
    "        smiles = map(lambda line: line.split(\" \"), open(file, \"r\").read().splitlines())\n",
    "        for smi in smiles:\n",
    "            smiles, _id = smi\n",
    "            smi_entry = smiles_dict.get(_id)\n",
    "            if smi_entry and smi_entry[0] != smiles:\n",
    "                print(\"Same ID but different SMILES\")\n",
    "            elif not smi_entry:\n",
    "                smiles_dict[_id] = (smiles, protein_name, is_active)\n",
    "    return list(smiles_dict.values())"
   ]
  },
  {
   "cell_type": "code",
   "execution_count": 286,
   "id": "7ff429a1",
   "metadata": {},
   "outputs": [
    {
     "name": "stdout",
     "output_type": "stream",
     "text": [
      "../data/AVE_unbiased/MTORC1/AID493208_inactive_T.smi\n",
      "../data/AVE_unbiased/MTORC1/AID493208_active_T.smi\n",
      "../data/AVE_unbiased/MTORC1/AID493208_inactive_V.smi\n",
      "../data/AVE_unbiased/MTORC1/AID493208_active_V.smi\n"
     ]
    }
   ],
   "source": [
    "train_compounds = get_compound_smiles_dataset(smi_files=train_smi_files, mapping=reverse_mapping)\n",
    "val_compounds = get_compound_smiles_dataset(smi_files=val_smi_files, mapping=reverse_mapping)"
   ]
  },
  {
   "cell_type": "code",
   "execution_count": 465,
   "id": "1f3ad65b",
   "metadata": {},
   "outputs": [],
   "source": [
    "def get_fingerprint(\n",
    "    smiles, n_bits=8192, radius=2, as_array=True\n",
    "):\n",
    "    mol = Chem.MolFromSmiles(smiles)\n",
    "    parameters = {\n",
    "        \"radius\": radius,\n",
    "        \"nBits\": n_bits,\n",
    "        \"invariants\": [],\n",
    "        \"fromAtoms\": [],\n",
    "        \"useChirality\": False,\n",
    "        \"useBondTypes\": True,\n",
    "        \"useFeatures\": True,\n",
    "    }\n",
    "\n",
    "    fp = rdMolDescriptors.GetMorganFingerprintAsBitVect(mol, **parameters)\n",
    "    if as_array:\n",
    "        # faster than ConvertToNumpyArray: https://github.com/rdkit/rdkit/discussions/3863\n",
    "        return np.frombuffer(fp.ToBitString().encode(), \"u1\") - ord(\"0\")\n",
    "    return fp"
   ]
  },
  {
   "cell_type": "code",
   "execution_count": 549,
   "id": "fc104224",
   "metadata": {},
   "outputs": [],
   "source": [
    "class CPIDataset(torch.utils.data.Dataset):\n",
    "    def __init__(self, protein_files, cpis, compound_dim=8192, compound_radius=2):\n",
    "        self.protein_value_to_index = protein_files.map(Self.stem()).val2idx()\n",
    "        self.protein_embeddings = [torch.Tensor(np.load(file).flatten()) for file in protein_files]\n",
    "        self.protein_embeddings = nn.utils.rnn.pad_sequence(self.protein_embeddings)\n",
    "        self._protein_dim = embeddings_padded.size(0)\n",
    "        self.cpis = cpis\n",
    "        self._compound_dim = compound_dim\n",
    "        self._compound_radius = compound_radius\n",
    "        \n",
    "    def __getitem__(self, i):\n",
    "        smiles, protein, is_active = self.cpis[i]\n",
    "        fingerprint = get_fingerprint(smiles=smiles, n_bits=self._compound_dim, radius=self._compound_radius)\n",
    "        protein_embedding = self.protein_embeddings[:, self.protein_value_to_index.get(protein)]\n",
    "        return protein_embedding, torch.Tensor(fingerprint), torch.tensor(is_active, dtype=torch.long).squeeze()\n",
    "    \n",
    "    def __len__(self): return len(self.cpis)\n",
    "    \n",
    "    @property\n",
    "    def protein_dim(self):\n",
    "        return self._protein_dim\n",
    "    \n",
    "    @property\n",
    "    def compound_dim(self):\n",
    "        return self._compound_dim"
   ]
  },
  {
   "cell_type": "code",
   "execution_count": 550,
   "id": "03b103c7",
   "metadata": {},
   "outputs": [],
   "source": [
    "class AlphaCPIModel(Module):\n",
    "    def __init__(self, prot_input_size, comp_input_size, prot_hidden_size=256, comp_hidden_size=128):\n",
    "        self.prot_embedding = nn.Linear(prot_input_size, prot_hidden_size)\n",
    "        self.comp_embedding = nn.Linear(comp_input_size, comp_hidden_size)\n",
    "        self.combined = nn.Linear(prot_hidden_size+comp_hidden_size, 2)\n",
    "    \n",
    "    def forward(self, x1, x2):\n",
    "        prot = torch.relu(self.prot_embedding(x1))\n",
    "        comp = torch.relu(self.comp_embedding(x2))\n",
    "        combined = self.combined(torch.cat([prot, comp], dim=1))\n",
    "        return torch.sigmoid(combined)"
   ]
  },
  {
   "cell_type": "code",
   "execution_count": 551,
   "id": "6706ee45",
   "metadata": {},
   "outputs": [],
   "source": [
    "protein_files = get_files(path=embedding_output_dir, extensions=\".npy\")"
   ]
  },
  {
   "cell_type": "code",
   "execution_count": 552,
   "id": "eb58a147",
   "metadata": {},
   "outputs": [],
   "source": [
    "train_set = CPIDataset(protein_files=protein_files, cpis=train_compounds)\n",
    "val_set = CPIDataset(protein_files=protein_files, cpis=val_compounds)"
   ]
  },
  {
   "cell_type": "code",
   "execution_count": 576,
   "id": "def87fc9",
   "metadata": {},
   "outputs": [
    {
     "name": "stdout",
     "output_type": "stream",
     "text": [
      "AlphaCPIModel(\n",
      "  (prot_embedding): Linear(in_features=321408, out_features=256, bias=True)\n",
      "  (comp_embedding): Linear(in_features=8192, out_features=128, bias=True)\n",
      "  (combined): Linear(in_features=384, out_features=2, bias=True)\n",
      ")\n"
     ]
    }
   ],
   "source": [
    "model = AlphaCPIModel(prot_input_size=train_set.protein_dim, comp_input_size=train_set.compound_dim)\n",
    "print(model)"
   ]
  },
  {
   "cell_type": "code",
   "execution_count": 577,
   "id": "c7412366",
   "metadata": {},
   "outputs": [],
   "source": [
    "train_dl = DataLoader(dataset=train_set, batch_size=32, shuffle=True)\n",
    "val_dl = DataLoader(dataset=val_set, batch_size=32, shuffle=True)"
   ]
  },
  {
   "cell_type": "code",
   "execution_count": 584,
   "id": "14555d98",
   "metadata": {},
   "outputs": [],
   "source": [
    "dls = DataLoaders(train_dl, val_dl)\n",
    "dls.n_inp = 2"
   ]
  },
  {
   "cell_type": "code",
   "execution_count": 594,
   "id": "4f61db49",
   "metadata": {},
   "outputs": [],
   "source": [
    "learner = Learner(dls=dls, \n",
    "                  model=model, \n",
    "                  loss_func=nn.CrossEntropyLoss(), \n",
    "                  metrics=BalancedAccuracy,\n",
    "                  cbs=[LRFinder])"
   ]
  },
  {
   "cell_type": "code",
   "execution_count": 592,
   "id": "0c965833",
   "metadata": {},
   "outputs": [
    {
     "data": {
      "text/plain": [
       "SuggestedLRs(valley=0.0008317637839354575)"
      ]
     },
     "execution_count": 592,
     "metadata": {},
     "output_type": "execute_result"
    },
    {
     "data": {
      "image/png": "[encoded data removed]",
      "text/plain": [
       "<Figure size 432x288 with 1 Axes>"
      ]
     },
     "metadata": {
      "needs_background": "light"
     },
     "output_type": "display_data"
    }
   ],
   "source": [
    "learner.lr_find()"
   ]
  },
  {
   "cell_type": "code",
   "execution_count": 596,
   "id": "df715648",
   "metadata": {},
   "outputs": [
    {
     "data": {
      "text/plain": [
       "tensor(0.3133, grad_fn=<NllLossBackward>)"
      ]
     },
     "execution_count": 596,
     "metadata": {},
     "output_type": "execute_result"
    }
   ],
   "source": [
    "learner.model = learner.model.cpu()\n",
    "x1,x2,y = learner.dls.one_batch()\n",
    "init_loss = learner.loss_func(learner.model(x1,x2), y)\n",
    "init_loss"
   ]
  },
  {
   "cell_type": "code",
   "execution_count": 597,
   "id": "dbabb963",
   "metadata": {},
   "outputs": [],
   "source": [
    "learner.fit(n_epoch=5, lr=0.0008)"
   ]
  },
  {
   "cell_type": "code",
   "execution_count": 598,
   "id": "6cfa743e",
   "metadata": {},
   "outputs": [
    {
     "ename": "AssertionError",
     "evalue": "(tensor(0.3133, grad_fn=<NllLossBackward>), tensor(0.3133, grad_fn=<NllLossBackward>))",
     "output_type": "error",
     "traceback": [
      "\u001b[0;31m---------------------------------------------------------------------------\u001b[0m",
      "\u001b[0;31mAssertionError\u001b[0m                            Traceback (most recent call last)",
      "\u001b[0;32m/tmp/ipykernel_855/3276010333.py\u001b[0m in \u001b[0;36m<module>\u001b[0;34m\u001b[0m\n\u001b[1;32m      1\u001b[0m \u001b[0mx1\u001b[0m\u001b[0;34m,\u001b[0m\u001b[0mx2\u001b[0m\u001b[0;34m,\u001b[0m\u001b[0my\u001b[0m \u001b[0;34m=\u001b[0m \u001b[0mlearner\u001b[0m\u001b[0;34m.\u001b[0m\u001b[0mdls\u001b[0m\u001b[0;34m.\u001b[0m\u001b[0mone_batch\u001b[0m\u001b[0;34m(\u001b[0m\u001b[0;34m)\u001b[0m\u001b[0;34m\u001b[0m\u001b[0;34m\u001b[0m\u001b[0m\n\u001b[1;32m      2\u001b[0m \u001b[0mfinal_loss\u001b[0m \u001b[0;34m=\u001b[0m \u001b[0mlearner\u001b[0m\u001b[0;34m.\u001b[0m\u001b[0mloss_func\u001b[0m\u001b[0;34m(\u001b[0m\u001b[0mlearner\u001b[0m\u001b[0;34m.\u001b[0m\u001b[0mmodel\u001b[0m\u001b[0;34m(\u001b[0m\u001b[0mx1\u001b[0m\u001b[0;34m,\u001b[0m\u001b[0mx2\u001b[0m\u001b[0;34m)\u001b[0m\u001b[0;34m,\u001b[0m \u001b[0my\u001b[0m\u001b[0;34m)\u001b[0m\u001b[0;34m\u001b[0m\u001b[0;34m\u001b[0m\u001b[0m\n\u001b[0;32m----> 3\u001b[0;31m \u001b[0;32massert\u001b[0m \u001b[0mfinal_loss\u001b[0m \u001b[0;34m<\u001b[0m \u001b[0minit_loss\u001b[0m\u001b[0;34m,\u001b[0m \u001b[0;34m(\u001b[0m\u001b[0mfinal_loss\u001b[0m\u001b[0;34m,\u001b[0m\u001b[0minit_loss\u001b[0m\u001b[0;34m)\u001b[0m\u001b[0;34m\u001b[0m\u001b[0;34m\u001b[0m\u001b[0m\n\u001b[0m",
      "\u001b[0;31mAssertionError\u001b[0m: (tensor(0.3133, grad_fn=<NllLossBackward>), tensor(0.3133, grad_fn=<NllLossBackward>))"
     ]
    }
   ],
   "source": [
    "x1,x2,y = learner.dls.one_batch()\n",
    "final_loss = learner.loss_func(learner.model(x1,x2), y)\n",
    "assert final_loss < init_loss, (final_loss,init_loss)"
   ]
  },
  {
   "cell_type": "code",
   "execution_count": 610,
   "id": "9f0c3013",
   "metadata": {},
   "outputs": [
    {
     "data": {
      "text/plain": [
       "<__main__.CPIDataset at 0x7ff6985666a0>"
      ]
     },
     "execution_count": 610,
     "metadata": {},
     "output_type": "execute_result"
    }
   ],
   "source": [
    "x1,x2,y = learner.dls.one_batch()"
   ]
  },
  {
   "cell_type": "code",
   "execution_count": 605,
   "id": "11c5f0fa",
   "metadata": {},
   "outputs": [
    {
     "data": {
      "text/plain": [
       "tensor([[1., 0.],\n",
       "        [1., 0.],\n",
       "        [1., 0.],\n",
       "        [1., 0.],\n",
       "        [1., 0.],\n",
       "        [1., 0.],\n",
       "        [1., 0.],\n",
       "        [1., 0.],\n",
       "        [1., 0.],\n",
       "        [1., 0.],\n",
       "        [1., 0.],\n",
       "        [1., 0.],\n",
       "        [1., 0.],\n",
       "        [1., 0.],\n",
       "        [1., 0.],\n",
       "        [1., 0.],\n",
       "        [1., 0.],\n",
       "        [1., 0.],\n",
       "        [1., 0.],\n",
       "        [1., 0.],\n",
       "        [1., 0.],\n",
       "        [1., 0.],\n",
       "        [1., 0.],\n",
       "        [1., 0.],\n",
       "        [1., 0.],\n",
       "        [1., 0.],\n",
       "        [1., 0.],\n",
       "        [1., 0.],\n",
       "        [1., 0.],\n",
       "        [1., 0.],\n",
       "        [1., 0.],\n",
       "        [1., 0.]], grad_fn=<SigmoidBackward>)"
      ]
     },
     "execution_count": 605,
     "metadata": {},
     "output_type": "execute_result"
    }
   ],
   "source": [
    "learner.model(x1, x2)"
   ]
  },
  {
   "cell_type": "code",
   "execution_count": null,
   "id": "25fc43b2",
   "metadata": {},
   "outputs": [],
   "source": []
  }
 ],
 "metadata": {
  "kernelspec": {
   "display_name": "Python 3 (ipykernel)",
   "language": "python",
   "name": "python3"
  },
  "language_info": {
   "codemirror_mode": {
    "name": "ipython",
    "version": 3
   },
   "file_extension": ".py",
   "mimetype": "text/x-python",
   "name": "python",
   "nbconvert_exporter": "python",
   "pygments_lexer": "ipython3",
   "version": "3.8.5"
  }
 },
 "nbformat": 4,
 "nbformat_minor": 5
}
