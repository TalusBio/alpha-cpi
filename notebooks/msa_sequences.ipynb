{
 "cells": [
  {
   "cell_type": "code",
   "execution_count": 1,
   "id": "43822481",
   "metadata": {},
   "outputs": [],
   "source": [
    "%load_ext autoreload\n",
    "%autoreload 2"
   ]
  },
  {
   "cell_type": "code",
   "execution_count": 2,
   "id": "ffcbed21",
   "metadata": {},
   "outputs": [],
   "source": [
    "import sys\n",
    "sys.path.append('..')"
   ]
  },
  {
   "cell_type": "code",
   "execution_count": 3,
   "id": "c8be2e19",
   "metadata": {},
   "outputs": [],
   "source": [
    "import os\n",
    "os.environ[\"TF_FORCE_UNIFIED_MEMORY\"] = \"1\""
   ]
  },
  {
   "cell_type": "code",
   "execution_count": 4,
   "id": "39f105c1",
   "metadata": {},
   "outputs": [],
   "source": [
    "import hashlib\n",
    "import pickle\n",
    "import requests\n",
    "import tarfile\n",
    "import tqdm.notebook\n",
    "\n",
    "from string import ascii_uppercase\n",
    "\n",
    "import jax\n",
    "import numpy as np\n",
    "\n",
    "from alphafold.data import parsers\n",
    "from alphafold.data import pipeline\n",
    "from alphafold.model import config\n",
    "from alphafold.model import data\n",
    "from alphafold.model import model\n",
    "\n",
    "TQDM_BAR_FORMAT = '{l_bar}{bar}| {n_fmt}/{total_fmt} [elapsed: {elapsed} remaining: {remaining}]'"
   ]
  },
  {
   "cell_type": "code",
   "execution_count": 5,
   "id": "67b1c285",
   "metadata": {},
   "outputs": [
    {
     "name": "stdout",
     "output_type": "stream",
     "text": [
      "gpu\n"
     ]
    }
   ],
   "source": [
    "print(jax.local_devices()[0].platform)"
   ]
  },
  {
   "cell_type": "code",
   "execution_count": 6,
   "id": "a3c60da9",
   "metadata": {},
   "outputs": [],
   "source": [
    "def run_mmseqs2(query_sequence, prefix, use_env=True, filter=False):\n",
    "    def submit(query_sequence, mode):\n",
    "        res = requests.post('https://a3m.mmseqs.com/ticket/msa', data={'q':f\">1\\n{query_sequence}\", 'mode': mode})\n",
    "        return res.json()\n",
    "    def status(ID):\n",
    "        res = requests.get(f'https://a3m.mmseqs.com/ticket/{ID}')\n",
    "        return res.json()\n",
    "    def download(ID, path):\n",
    "        res = requests.get(f'https://a3m.mmseqs.com/result/download/{ID}')\n",
    "        with open(path,\"wb\") as out: out.write(res.content)\n",
    "      \n",
    "    if filter:\n",
    "        mode = \"env\" if use_env else \"all\"\n",
    "    else:\n",
    "        mode = \"env-nofilter\" if use_env else \"nofilter\"\n",
    "    \n",
    "    path = f\"{prefix}_{mode}\"\n",
    "    if not os.path.isdir(path): os.mkdir(path)\n",
    "\n",
    "    # call mmseqs2 api\n",
    "    tar_gz_file = f'{path}/out.tar.gz'\n",
    "    if not os.path.isfile(tar_gz_file):\n",
    "        out = submit(query_sequence, mode)\n",
    "        while out[\"status\"] in [\"RUNNING\",\"PENDING\"]:\n",
    "            time.sleep(1)\n",
    "            out = status(out[\"id\"])    \n",
    "        download(out[\"id\"], tar_gz_file)\n",
    "    \n",
    "    # parse a3m files\n",
    "    a3m_lines = []\n",
    "    a3m = f\"{prefix}_{mode}.a3m\"\n",
    "    if not os.path.isfile(a3m):\n",
    "        with tarfile.open(tar_gz_file) as tar_gz: tar_gz.extractall(path)\n",
    "        a3m_files = [f\"{path}/uniref.a3m\"]\n",
    "        if use_env: a3m_files.append(f\"{path}/bfd.mgnify30.metaeuk30.smag30.a3m\")\n",
    "        a3m_out = open(a3m,\"w\")\n",
    "        for a3m_file in a3m_files:\n",
    "            for line in open(a3m_file,\"r\"):\n",
    "                line = line.replace(\"\\x00\",\"\")\n",
    "                if len(line) > 0:\n",
    "                    a3m_lines.append(line)\n",
    "                    a3m_out.write(line)\n",
    "    else:\n",
    "        a3m_lines = open(a3m).readlines()\n",
    "    return \"\".join(a3m_lines)"
   ]
  },
  {
   "cell_type": "code",
   "execution_count": 7,
   "id": "f78e9fcc",
   "metadata": {},
   "outputs": [],
   "source": [
    "sequence = 'PIAQIHILEGRSDEQKETLIREVSEAISRSLDAPLTSVRVIITEMAKGHFGIGGELASK'\n",
    "\n",
    "MIN_SEQUENCE_LENGTH = 16\n",
    "MAX_SEQUENCE_LENGTH = 2500\n",
    "\n",
    "# Remove all whitespaces, tabs and end lines; upper-case\n",
    "sequence = sequence.translate(str.maketrans('', '', ' \\n\\t')).upper()\n",
    "save_all_models = True \n",
    "save_msa = True \n",
    "\n",
    "aatypes = set('ACDEFGHIKLMNPQRSTVWY')  # 20 standard aatypes\n",
    "if not set(sequence).issubset(aatypes):\n",
    "    raise Exception(f'Input sequence contains non-amino acid letters: {set(sequence) - aatypes}. AlphaFold only supports 20 standard amino acids as inputs.')\n",
    "if len(sequence) < MIN_SEQUENCE_LENGTH:\n",
    "    raise Exception(f'Input sequence is too short: {len(sequence)} amino acids, while the minimum is {MIN_SEQUENCE_LENGTH}')\n",
    "if len(sequence) > MAX_SEQUENCE_LENGTH:\n",
    "    raise Exception(f'Input sequence is too long: {len(sequence)} amino acids, while the maximum is {MAX_SEQUENCE_LENGTH}. Please use the full AlphaFold system for long sequences.')"
   ]
  },
  {
   "cell_type": "code",
   "execution_count": 8,
   "id": "53935c2d",
   "metadata": {},
   "outputs": [
    {
     "name": "stdout",
     "output_type": "stream",
     "text": [
      "\n",
      "3214 Sequences Found in Total\n",
      "\n"
     ]
    }
   ],
   "source": [
    "msa_method = \"mmseqs2\"\n",
    "prefix = hashlib.sha1(sequence.encode()).hexdigest()\n",
    "\n",
    "output_dir = 'prediction'\n",
    "os.makedirs(output_dir, exist_ok=True)\n",
    "\n",
    "# --- Search against genetic databases ---\n",
    "# with open('target.fasta', 'wt') as f:\n",
    "#     f.write(f'>query\\n{sequence}')\n",
    "\n",
    "# Run the search against chunks of genetic databases (since the genetic\n",
    "# databases don't fit in Colab ramdisk).\n",
    "\n",
    "if msa_method == \"mmseqs2\":\n",
    "    msa, deletion_matrix = parsers.parse_a3m(run_mmseqs2(sequence, prefix, filter=False))\n",
    "    msas,deletion_matrices = [msa],[deletion_matrix]\n",
    "else:\n",
    "  # run jackhmmer\n",
    "  msas, deletion_matrices = run_jackhmmer(sequence, prefix)\n",
    "\n",
    "full_msa = []\n",
    "for msa in msas: full_msa += msa\n",
    "\n",
    "# save MSA as pickle\n",
    "# pickle.dump({\"msas\":msas,\"deletion_matrices\":deletion_matrices},\n",
    "#             open(\"prediction/msa.pickle\",\"wb\"))\n",
    "\n",
    "# deduplicate\n",
    "deduped_full_msa = list(dict.fromkeys(full_msa))\n",
    "total_msa_size = len(deduped_full_msa)\n",
    "print(f'\\n{total_msa_size} Sequences Found in Total\\n')\n",
    "\n",
    "msa_arr = np.array([list(seq) for seq in deduped_full_msa])\n",
    "num_alignments, num_res = msa_arr.shape"
   ]
  },
  {
   "cell_type": "code",
   "execution_count": 16,
   "id": "8d8727e0",
   "metadata": {},
   "outputs": [
    {
     "data": {
      "text/plain": [
       "(3214, 59)"
      ]
     },
     "execution_count": 16,
     "metadata": {},
     "output_type": "execute_result"
    }
   ],
   "source": [
    "msa_arr.shape"
   ]
  },
  {
   "cell_type": "markdown",
   "id": "961f5cee",
   "metadata": {},
   "source": [
    "## Run the model"
   ]
  },
  {
   "cell_type": "code",
   "execution_count": 9,
   "id": "e03a6c6a",
   "metadata": {},
   "outputs": [],
   "source": [
    "def _placeholder_template_feats(num_templates_, num_res_):\n",
    "    return {\n",
    "        'template_aatype': np.zeros([num_templates_, num_res_, 22], np.float32),\n",
    "        'template_all_atom_masks': np.zeros([num_templates_, num_res_, 37, 3], np.float32),\n",
    "        'template_all_atom_positions': np.zeros([num_templates_, num_res_, 37], np.float32),\n",
    "        'template_domain_names': np.zeros([num_templates_], np.float32),\n",
    "        'template_sum_probs': np.zeros([num_templates_], np.float32),\n",
    "    }"
   ]
  },
  {
   "cell_type": "code",
   "execution_count": 10,
   "id": "75e9ceda",
   "metadata": {},
   "outputs": [
    {
     "name": "stdout",
     "output_type": "stream",
     "text": [
      "LICENSE\t\t\tparams_model_2_ptm.npz\tparams_model_4_ptm.npz\r\n",
      "params_model_1.npz\tparams_model_3.npz\tparams_model_5.npz\r\n",
      "params_model_1_ptm.npz\tparams_model_3_ptm.npz\tparams_model_5_ptm.npz\r\n",
      "params_model_2.npz\tparams_model_4.npz\r\n"
     ]
    }
   ],
   "source": [
    "!ls ../../alphafold/alphafold/data/params/"
   ]
  },
  {
   "cell_type": "code",
   "execution_count": 11,
   "id": "326d20c5",
   "metadata": {},
   "outputs": [
    {
     "data": {
      "application/vnd.jupyter.widget-view+json": {
       "model_id": "6d8a341a6d474b0eaf0b7ad8d6335de8",
       "version_major": 2,
       "version_minor": 0
      },
      "text/plain": [
       "  0%|          | 0/2 [elapsed: 00:00 remaining: ?]"
      ]
     },
     "metadata": {},
     "output_type": "display_data"
    }
   ],
   "source": [
    "model_names = ['model_1']#, 'model_2', 'model_3', 'model_4', 'model_5']\n",
    "\n",
    "plddts = {}\n",
    "pae_outputs = {}\n",
    "unrelaxed_proteins = {}\n",
    "\n",
    "with tqdm.notebook.tqdm(total=len(model_names) + 1, bar_format=TQDM_BAR_FORMAT) as pbar:\n",
    "    for model_name in model_names:\n",
    "        pbar.set_description(f'Running {model_name}')\n",
    "        num_templates = 0\n",
    "        num_res = len(sequence)\n",
    "\n",
    "        feature_dict = {}\n",
    "        feature_dict.update(pipeline.make_sequence_features(sequence, 'test', num_res))\n",
    "        feature_dict.update(pipeline.make_msa_features(msas, deletion_matrices=deletion_matrices))\n",
    "        feature_dict.update(_placeholder_template_feats(num_templates, num_res))\n",
    "\n",
    "        cfg = config.model_config(model_name)\n",
    "        params = data.get_model_haiku_params(model_name, '../../alphafold/alphafold/data')\n",
    "        model_runner = model.RunModel(cfg, params)\n",
    "        processed_feature_dict = model_runner.process_features(feature_dict,\n",
    "                                                               random_seed=0)\n",
    "        prediction_result = model_runner.predict(processed_feature_dict)\n",
    "\n",
    "#         mean_plddt = prediction_result['plddt'].mean()\n",
    "\n",
    "#         if 'predicted_aligned_error' in prediction_result:\n",
    "#             pae_outputs[model_name] = (\n",
    "#               prediction_result['predicted_aligned_error'],\n",
    "#               prediction_result['max_predicted_aligned_error']\n",
    "#             )\n",
    "#         else:\n",
    "#             # Get the pLDDT confidence metrics. Do not put pTM models here as they\n",
    "#             # should never get selected.\n",
    "#             plddts[model_name] = prediction_result['plddt']\n",
    "\n",
    "#         # Set the b-factors to the per-residue plddt.\n",
    "#         final_atom_mask = prediction_result['structure_module']['final_atom_mask']\n",
    "#         b_factors = prediction_result['plddt'][:, None] * final_atom_mask\n",
    "#         unrelaxed_protein = protein.from_prediction(processed_feature_dict,\n",
    "#                                                     prediction_result,\n",
    "#                                                     b_factors=b_factors)\n",
    "#         unrelaxed_proteins[model_name] = unrelaxed_protein\n",
    "\n",
    "        # Delete unused outputs to save memory.\n",
    "        del model_runner\n",
    "        del params\n",
    "#         del prediction_result\n",
    "        pbar.update(n=1)"
   ]
  },
  {
   "cell_type": "code",
   "execution_count": 21,
   "id": "3c780a17",
   "metadata": {},
   "outputs": [
    {
     "data": {
      "text/plain": [
       "DeviceArray([[ 1.58250170e+01,  4.19535637e+01,  1.16711136e+02, ...,\n",
       "              -4.44708447e+03, -1.49557039e-01,  4.53268852e+01],\n",
       "             [ 7.79034376e+00,  2.44731407e+01,  9.70779419e+01, ...,\n",
       "              -3.94070557e+03, -1.59975433e+01,  5.48255730e+01],\n",
       "             [ 2.90133324e+01,  8.11811733e+00,  6.85647354e+01, ...,\n",
       "              -4.27221973e+03, -6.05358124e+00, -5.11846542e-01],\n",
       "             ...,\n",
       "             [ 3.52386436e+01,  2.27563324e+01, -2.04485016e+01, ...,\n",
       "              -3.81309277e+03, -2.90400922e-01,  5.91051598e+01],\n",
       "             [-4.56238031e+00,  1.97234285e+00, -2.46919346e+00, ...,\n",
       "              -2.43228076e+03,  7.93027306e+00,  1.86131725e+01],\n",
       "             [-1.44213533e+01,  7.59067869e+00, -2.59044952e+01, ...,\n",
       "              -2.40460889e+03,  4.86359901e+01,  6.34384766e+01]],            dtype=float32)"
      ]
     },
     "execution_count": 21,
     "metadata": {},
     "output_type": "execute_result"
    }
   ],
   "source": [
    "prediction_result[\"representations\"][\"single\"]"
   ]
  },
  {
   "cell_type": "code",
   "execution_count": 17,
   "id": "837d0cb0",
   "metadata": {},
   "outputs": [
    {
     "data": {
      "text/plain": [
       "(508, 59, 256)"
      ]
     },
     "execution_count": 17,
     "metadata": {},
     "output_type": "execute_result"
    }
   ],
   "source": [
    "prediction_result[\"representations\"][\"msa\"].shape"
   ]
  },
  {
   "cell_type": "code",
   "execution_count": 18,
   "id": "89f504a9",
   "metadata": {},
   "outputs": [
    {
     "data": {
      "text/plain": [
       "(59, 256)"
      ]
     },
     "execution_count": 18,
     "metadata": {},
     "output_type": "execute_result"
    }
   ],
   "source": [
    "prediction_result[\"representations\"][\"msa_first_row\"].shape"
   ]
  },
  {
   "cell_type": "code",
   "execution_count": 19,
   "id": "cf59022e",
   "metadata": {},
   "outputs": [
    {
     "data": {
      "text/plain": [
       "(59, 59, 128)"
      ]
     },
     "execution_count": 19,
     "metadata": {},
     "output_type": "execute_result"
    }
   ],
   "source": [
    "prediction_result[\"representations\"][\"pair\"].shape"
   ]
  },
  {
   "cell_type": "code",
   "execution_count": 20,
   "id": "81a14893",
   "metadata": {},
   "outputs": [
    {
     "data": {
      "text/plain": [
       "(59, 384)"
      ]
     },
     "execution_count": 20,
     "metadata": {},
     "output_type": "execute_result"
    }
   ],
   "source": [
    "prediction_result[\"representations\"][\"structure_module\"].shape"
   ]
  },
  {
   "cell_type": "code",
   "execution_count": null,
   "id": "b0dc8a52",
   "metadata": {},
   "outputs": [],
   "source": []
  }
 ],
 "metadata": {
  "kernelspec": {
   "display_name": "Python 3 (ipykernel)",
   "language": "python",
   "name": "python3"
  },
  "language_info": {
   "codemirror_mode": {
    "name": "ipython",
    "version": 3
   },
   "file_extension": ".py",
   "mimetype": "text/x-python",
   "name": "python",
   "nbconvert_exporter": "python",
   "pygments_lexer": "ipython3",
   "version": "3.8.5"
  }
 },
 "nbformat": 4,
 "nbformat_minor": 5
}
